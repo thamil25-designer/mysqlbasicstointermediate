{
  "cells": [
    {
      "cell_type": "markdown",
      "metadata": {
        "id": "view-in-github",
        "colab_type": "text"
      },
      "source": [
        "<a href=\"https://colab.research.google.com/github/thamil25-designer/mysqlbasicstointermediate/blob/main/pyspark_practices.ipynb\" target=\"_parent\"><img src=\"https://colab.research.google.com/assets/colab-badge.svg\" alt=\"Open In Colab\"/></a>"
      ]
    },
    {
      "cell_type": "markdown",
      "id": "31d9a4c9",
      "metadata": {
        "origin_pos": 0,
        "id": "31d9a4c9"
      },
      "source": [
        "# Using Jupyter Notebooks\n",
        ":label:`sec_jupyter`\n",
        "\n",
        "\n",
        "This section describes how to edit and run the code\n",
        "in each section of this book\n",
        "using the Jupyter Notebook. Make sure you have\n",
        "installed Jupyter and downloaded the\n",
        "code as described in\n",
        ":ref:`chap_installation`.\n",
        "If you want to know more about Jupyter see the excellent tutorial in\n",
        "their [documentation](https://jupyter.readthedocs.io/en/latest/).\n",
        "\n",
        "\n",
        "## Editing and Running the Code Locally\n",
        "\n",
        "Suppose that the local path of the book's code is `xx/yy/d2l-en/`. Use the shell to change the directory to this path (`cd xx/yy/d2l-en`) and run the command `jupyter notebook`. If your browser does not do this automatically, open http://localhost:8888 and you will see the interface of Jupyter and all the folders containing the code of the book, as shown in :numref:`fig_jupyter00`.\n",
        "\n",
        "![The folders containing the code of this book.](https://github.com/d2l-ai/d2l-en-colab/blob/master/img/jupyter00.png?raw=1)\n",
        ":width:`600px`\n",
        ":label:`fig_jupyter00`\n",
        "\n",
        "\n",
        "You can access the notebook files by clicking on the folder displayed on the webpage.\n",
        "They usually have the suffix \".ipynb\".\n",
        "For the sake of brevity, we create a temporary \"test.ipynb\" file.\n",
        "The content displayed after you click it is\n",
        "shown in :numref:`fig_jupyter01`.\n",
        "This notebook includes a markdown cell and a code cell. The content in the markdown cell includes \"This Is a Title\" and \"This is text.\".\n",
        "The code cell contains two lines of Python code.\n",
        "\n",
        "![Markdown and code cells in the \"text.ipynb\" file.](https://github.com/d2l-ai/d2l-en-colab/blob/master/img/jupyter01.png?raw=1)\n",
        ":width:`600px`\n",
        ":label:`fig_jupyter01`\n",
        "\n",
        "\n",
        "Double click on the markdown cell to enter edit mode.\n",
        "Add a new text string \"Hello world.\" at the end of the cell, as shown in :numref:`fig_jupyter02`.\n",
        "\n",
        "![Edit the markdown cell.](https://github.com/d2l-ai/d2l-en-colab/blob/master/img/jupyter02.png?raw=1)\n",
        ":width:`600px`\n",
        ":label:`fig_jupyter02`\n",
        "\n",
        "\n",
        "As demonstrated in :numref:`fig_jupyter03`,\n",
        "click \"Cell\" $\\rightarrow$ \"Run Cells\" in the menu bar to run the edited cell.\n",
        "\n",
        "![Run the cell.](https://github.com/d2l-ai/d2l-en-colab/blob/master/img/jupyter03.png?raw=1)\n",
        ":width:`600px`\n",
        ":label:`fig_jupyter03`\n",
        "\n",
        "After running, the markdown cell is shown in :numref:`fig_jupyter04`.\n",
        "\n",
        "![The markdown cell after running.](https://github.com/d2l-ai/d2l-en-colab/blob/master/img/jupyter04.png?raw=1)\n",
        ":width:`600px`\n",
        ":label:`fig_jupyter04`\n",
        "\n",
        "\n",
        "Next, click on the code cell. Multiply the elements by 2 after the last line of code, as shown in :numref:`fig_jupyter05`.\n",
        "\n",
        "![Edit the code cell.](https://github.com/d2l-ai/d2l-en-colab/blob/master/img/jupyter05.png?raw=1)\n",
        ":width:`600px`\n",
        ":label:`fig_jupyter05`\n",
        "\n",
        "\n",
        "You can also run the cell with a shortcut (\"Ctrl + Enter\" by default) and obtain the output result from :numref:`fig_jupyter06`.\n",
        "\n",
        "![Run the code cell to obtain the output.](https://github.com/d2l-ai/d2l-en-colab/blob/master/img/jupyter06.png?raw=1)\n",
        ":width:`600px`\n",
        ":label:`fig_jupyter06`\n",
        "\n",
        "\n",
        "When a notebook contains more cells, we can click \"Kernel\" $\\rightarrow$ \"Restart & Run All\" in the menu bar to run all the cells in the entire notebook. By clicking \"Help\" $\\rightarrow$ \"Edit Keyboard Shortcuts\" in the menu bar, you can edit the shortcuts according to your preferences.\n",
        "\n",
        "## Advanced Options\n",
        "\n",
        "Beyond local editing two things are quite important: editing the notebooks in the markdown format and running Jupyter remotely.\n",
        "The latter matters when we want to run the code on a faster server.\n",
        "The former matters since Jupyter's native ipynb format stores a lot of auxiliary data that is\n",
        "irrelevant to the content,\n",
        "mostly related to how and where the code is run.\n",
        "This is confusing for Git, making\n",
        "reviewing contributions very difficult.\n",
        "Fortunately there is an alternative---native editing in the markdown format.\n",
        "\n",
        "### Markdown Files in Jupyter\n",
        "\n",
        "If you wish to contribute to the content of this book, you need to modify the\n",
        "source file (md file, not ipynb file) on GitHub.\n",
        "Using the notedown plugin we\n",
        "can modify notebooks in the md format directly in Jupyter.\n",
        "\n",
        "\n",
        "First, install the notedown plugin, run the Jupyter Notebook, and load the plugin:\n",
        "\n",
        "```\n",
        "pip install d2l-notedown  # You may need to uninstall the original notedown.\n",
        "jupyter notebook --NotebookApp.contents_manager_class='notedown.NotedownContentsManager'\n",
        "```\n",
        "\n",
        "You may also turn on the notedown plugin by default whenever you run the Jupyter Notebook.\n",
        "First, generate a Jupyter Notebook configuration file (if it has already been generated, you can skip this step).\n",
        "\n",
        "```\n",
        "jupyter notebook --generate-config\n",
        "```\n",
        "\n",
        "Then, add the following line to the end of the Jupyter Notebook configuration file (for Linux or macOS, usually in the path `~/.jupyter/jupyter_notebook_config.py`):\n",
        "\n",
        "```\n",
        "c.NotebookApp.contents_manager_class = 'notedown.NotedownContentsManager'\n",
        "```\n",
        "\n",
        "After that, you only need to run the `jupyter notebook` command to turn on the notedown plugin by default.\n",
        "\n",
        "### Running Jupyter Notebooks on a Remote Server\n",
        "\n",
        "Sometimes, you may want to run Jupyter notebooks on a remote server and access it through a browser on your local computer. If Linux or macOS is installed on your local machine (Windows can also support this function through third-party software such as PuTTY), you can use port forwarding:\n",
        "\n",
        "```\n",
        "ssh myserver -L 8888:localhost:8888\n",
        "```\n",
        "\n",
        "The above string `myserver` is the address of the remote server.\n",
        "Then we can use http://localhost:8888 to access the remote server `myserver` that runs Jupyter notebooks. We will detail on how to run Jupyter notebooks on AWS instances\n",
        "later in this appendix.\n",
        "\n",
        "### Timing\n",
        "\n",
        "We can use the `ExecuteTime` plugin to time the execution of each code cell in Jupyter notebooks.\n",
        "Use the following commands to install the plugin:\n",
        "\n",
        "```\n",
        "pip install jupyter_contrib_nbextensions\n",
        "jupyter contrib nbextension install --user\n",
        "jupyter nbextension enable execute_time/ExecuteTime\n",
        "```\n",
        "\n",
        "## Summary\n",
        "\n",
        "* Using the Jupyter Notebook tool, we can edit, run, and contribute to each section of the book.\n",
        "* We can run Jupyter notebooks on remote servers using port forwarding.\n",
        "\n",
        "\n",
        "## Exercises\n",
        "\n",
        "1. Edit and run the code in this book with the Jupyter Notebook on your local machine.\n",
        "1. Edit and run the code in this book with the Jupyter Notebook *remotely* via port forwarding.\n",
        "1. Compare the running time of the operations $\\mathbf{A}^\\top \\mathbf{B}$ and $\\mathbf{A} \\mathbf{B}$ for two square matrices in $\\mathbb{R}^{1024 \\times 1024}$. Which one is faster?\n",
        "\n",
        "\n",
        "[Discussions](https://discuss.d2l.ai/t/421)\n"
      ]
    },
    {
      "cell_type": "code",
      "source": [
        "pip install pyspark"
      ],
      "metadata": {
        "id": "-ldUhYkINruG",
        "colab": {
          "base_uri": "https://localhost:8080/"
        },
        "outputId": "08892047-33e7-4172-e52b-be1ea4d44b87"
      },
      "id": "-ldUhYkINruG",
      "execution_count": 5,
      "outputs": [
        {
          "output_type": "stream",
          "name": "stdout",
          "text": [
            "Requirement already satisfied: pyspark in /usr/local/lib/python3.11/dist-packages (3.5.1)\n",
            "Requirement already satisfied: py4j==0.10.9.7 in /usr/local/lib/python3.11/dist-packages (from pyspark) (0.10.9.7)\n"
          ]
        }
      ]
    },
    {
      "cell_type": "code",
      "source": [
        "import pyspark"
      ],
      "metadata": {
        "id": "R6z7lwqsQ3lb"
      },
      "id": "R6z7lwqsQ3lb",
      "execution_count": 6,
      "outputs": []
    },
    {
      "cell_type": "code",
      "source": [
        "from pyspark.sql import SparkSession"
      ],
      "metadata": {
        "id": "HB_I3sUFQ_n5"
      },
      "id": "HB_I3sUFQ_n5",
      "execution_count": 7,
      "outputs": []
    },
    {
      "cell_type": "code",
      "source": [
        "spark = SparkSession.builder.appName(\"example\").getOrCreate()"
      ],
      "metadata": {
        "id": "8mv8nvmgRS5k"
      },
      "id": "8mv8nvmgRS5k",
      "execution_count": 8,
      "outputs": []
    },
    {
      "cell_type": "code",
      "source": [
        "from pyspark.sql import Row\n",
        "data = [Row(name=\"Alice\",age = 20), Row(name=\"Bob\",age = 25), Row(name=\"Drawin\",age=35)]\n",
        "df = spark.createDataFrame(data)\n",
        "df.show()"
      ],
      "metadata": {
        "colab": {
          "base_uri": "https://localhost:8080/"
        },
        "id": "iCP0TjDlRd0t",
        "outputId": "2a0971f6-78d8-41cd-f417-2785af8be740"
      },
      "id": "iCP0TjDlRd0t",
      "execution_count": 9,
      "outputs": [
        {
          "output_type": "stream",
          "name": "stdout",
          "text": [
            "+------+---+\n",
            "|  name|age|\n",
            "+------+---+\n",
            "| Alice| 20|\n",
            "|   Bob| 25|\n",
            "|Drawin| 35|\n",
            "+------+---+\n",
            "\n"
          ]
        }
      ]
    },
    {
      "cell_type": "code",
      "source": [
        "df.select(\"name\")"
      ],
      "metadata": {
        "colab": {
          "base_uri": "https://localhost:8080/"
        },
        "id": "qKYaFHzSSJrM",
        "outputId": "07576aae-22c5-4e41-b9d9-99200e0b3966"
      },
      "id": "qKYaFHzSSJrM",
      "execution_count": 10,
      "outputs": [
        {
          "output_type": "execute_result",
          "data": {
            "text/plain": [
              "DataFrame[name: string]"
            ]
          },
          "metadata": {},
          "execution_count": 10
        }
      ]
    },
    {
      "cell_type": "code",
      "source": [
        "df.select(\"age\").show()"
      ],
      "metadata": {
        "colab": {
          "base_uri": "https://localhost:8080/"
        },
        "id": "_NBjIzRmSQ6a",
        "outputId": "2aea5b6a-0c62-48a0-dedf-0c1aea67d67c"
      },
      "id": "_NBjIzRmSQ6a",
      "execution_count": 11,
      "outputs": [
        {
          "output_type": "stream",
          "name": "stdout",
          "text": [
            "+---+\n",
            "|age|\n",
            "+---+\n",
            "| 20|\n",
            "| 25|\n",
            "| 35|\n",
            "+---+\n",
            "\n"
          ]
        }
      ]
    },
    {
      "cell_type": "code",
      "source": [
        "df.filter(df.age <= 25)"
      ],
      "metadata": {
        "colab": {
          "base_uri": "https://localhost:8080/"
        },
        "id": "6vD2VWe3SbeZ",
        "outputId": "10c960eb-fd03-40eb-d67d-56842d7bcbd8"
      },
      "id": "6vD2VWe3SbeZ",
      "execution_count": 12,
      "outputs": [
        {
          "output_type": "execute_result",
          "data": {
            "text/plain": [
              "DataFrame[name: string, age: bigint]"
            ]
          },
          "metadata": {},
          "execution_count": 12
        }
      ]
    },
    {
      "cell_type": "code",
      "source": [
        "from pyspark.sql.functions import col\n",
        "df.withColumn(\"age_plus_10\", col(\"age\")+10)"
      ],
      "metadata": {
        "colab": {
          "base_uri": "https://localhost:8080/"
        },
        "id": "HnXC7HJwSjGw",
        "outputId": "edfe3aaa-b1c0-433c-a244-a1be9bf11f22"
      },
      "id": "HnXC7HJwSjGw",
      "execution_count": 13,
      "outputs": [
        {
          "output_type": "execute_result",
          "data": {
            "text/plain": [
              "DataFrame[name: string, age: bigint, age_plus_10: bigint]"
            ]
          },
          "metadata": {},
          "execution_count": 13
        }
      ]
    },
    {
      "cell_type": "code",
      "source": [
        "df.groupBy(\"age\").count().show()"
      ],
      "metadata": {
        "colab": {
          "base_uri": "https://localhost:8080/"
        },
        "id": "xOzlawPVS7wT",
        "outputId": "e846de7e-4637-4c69-b608-0ddc052bd5b9"
      },
      "id": "xOzlawPVS7wT",
      "execution_count": 14,
      "outputs": [
        {
          "output_type": "stream",
          "name": "stdout",
          "text": [
            "+---+-----+\n",
            "|age|count|\n",
            "+---+-----+\n",
            "| 20|    1|\n",
            "| 25|    1|\n",
            "| 35|    1|\n",
            "+---+-----+\n",
            "\n"
          ]
        }
      ]
    },
    {
      "cell_type": "code",
      "source": [
        "df.orderBy(df.age.desc()).show()"
      ],
      "metadata": {
        "colab": {
          "base_uri": "https://localhost:8080/"
        },
        "id": "xduLz1MYTF79",
        "outputId": "c9a45e3a-33ed-4389-cfed-6c5d1d1ff415"
      },
      "id": "xduLz1MYTF79",
      "execution_count": 15,
      "outputs": [
        {
          "output_type": "stream",
          "name": "stdout",
          "text": [
            "+------+---+\n",
            "|  name|age|\n",
            "+------+---+\n",
            "|Drawin| 35|\n",
            "|   Bob| 25|\n",
            "| Alice| 20|\n",
            "+------+---+\n",
            "\n"
          ]
        }
      ]
    },
    {
      "cell_type": "code",
      "source": [
        "from pyspark.sql import Row\n",
        "data = [Row(name=\"Alice\",age = 20), Row(name=\"Bob\",age = 25), Row(name=\"Drawin\",age=35)]\n",
        "df = spark.createDataFrame(data)"
      ],
      "metadata": {
        "id": "gPJ2YQ6uTMNw"
      },
      "id": "gPJ2YQ6uTMNw",
      "execution_count": 16,
      "outputs": []
    },
    {
      "cell_type": "code",
      "source": [
        "df.orderBy(df.age.desc()).show()"
      ],
      "metadata": {
        "colab": {
          "base_uri": "https://localhost:8080/"
        },
        "id": "X7qEkKzxTYGX",
        "outputId": "4f41e52d-0bf7-4934-d5ed-bd5a575e1667"
      },
      "id": "X7qEkKzxTYGX",
      "execution_count": 17,
      "outputs": [
        {
          "output_type": "stream",
          "name": "stdout",
          "text": [
            "+------+---+\n",
            "|  name|age|\n",
            "+------+---+\n",
            "|Drawin| 35|\n",
            "|   Bob| 25|\n",
            "| Alice| 20|\n",
            "+------+---+\n",
            "\n"
          ]
        }
      ]
    },
    {
      "cell_type": "code",
      "source": [
        "df.orderBy(df.age.asc()).show()"
      ],
      "metadata": {
        "colab": {
          "base_uri": "https://localhost:8080/"
        },
        "id": "MeKWfo43TwoI",
        "outputId": "b7426493-4963-4448-e8b7-eade8594b88e"
      },
      "id": "MeKWfo43TwoI",
      "execution_count": 18,
      "outputs": [
        {
          "output_type": "stream",
          "name": "stdout",
          "text": [
            "+------+---+\n",
            "|  name|age|\n",
            "+------+---+\n",
            "| Alice| 20|\n",
            "|   Bob| 25|\n",
            "|Drawin| 35|\n",
            "+------+---+\n",
            "\n"
          ]
        }
      ]
    },
    {
      "cell_type": "code",
      "source": [
        "df.withColumnRenamed(\"name\", \"names\").show()"
      ],
      "metadata": {
        "colab": {
          "base_uri": "https://localhost:8080/"
        },
        "id": "sj0OS267T10L",
        "outputId": "6bf4a3a1-9e22-4a33-8a0c-6f856a023484"
      },
      "id": "sj0OS267T10L",
      "execution_count": 19,
      "outputs": [
        {
          "output_type": "stream",
          "name": "stdout",
          "text": [
            "+------+---+\n",
            "| names|age|\n",
            "+------+---+\n",
            "| Alice| 20|\n",
            "|   Bob| 25|\n",
            "|Drawin| 35|\n",
            "+------+---+\n",
            "\n"
          ]
        }
      ]
    },
    {
      "cell_type": "code",
      "source": [
        "from pyspark.sql.types import StructType, StructField, StringType, IntegerType\n",
        "schema = StructType([StructField(\"names\", StringType(), True), StructField(\"age\", IntegerType(), True)])\n",
        "data = [(\"David\", 22), (\"eva\", 29)]\n",
        "df2 = spark.createDataFrame(data, schema)\n",
        "df2.show()"
      ],
      "metadata": {
        "colab": {
          "base_uri": "https://localhost:8080/"
        },
        "id": "jWiVk_DkT_N1",
        "outputId": "43e668a4-e76b-4925-b9b4-dd1cbffb4b14"
      },
      "id": "jWiVk_DkT_N1",
      "execution_count": 20,
      "outputs": [
        {
          "output_type": "stream",
          "name": "stdout",
          "text": [
            "+-----+---+\n",
            "|names|age|\n",
            "+-----+---+\n",
            "|David| 22|\n",
            "|  eva| 29|\n",
            "+-----+---+\n",
            "\n"
          ]
        }
      ]
    },
    {
      "cell_type": "code",
      "source": [
        "from pyspark.sql.functions import when,col"
      ],
      "metadata": {
        "id": "TpBVyXiwVAbf"
      },
      "id": "TpBVyXiwVAbf",
      "execution_count": 21,
      "outputs": []
    },
    {
      "cell_type": "code",
      "source": [
        "df.withColumn(\"age_group\",when(df.age<30,\"young\").otherwise(\"old\")).show()"
      ],
      "metadata": {
        "colab": {
          "base_uri": "https://localhost:8080/"
        },
        "id": "XAYjlJUcWv_7",
        "outputId": "d964a011-633c-47d3-827c-ffb9eda6c226"
      },
      "id": "XAYjlJUcWv_7",
      "execution_count": 22,
      "outputs": [
        {
          "output_type": "stream",
          "name": "stdout",
          "text": [
            "+------+---+---------+\n",
            "|  name|age|age_group|\n",
            "+------+---+---------+\n",
            "| Alice| 20|    young|\n",
            "|   Bob| 25|    young|\n",
            "|Drawin| 35|      old|\n",
            "+------+---+---------+\n",
            "\n"
          ]
        }
      ]
    },
    {
      "cell_type": "code",
      "source": [
        "df_with_dupes=df.union(df)\n",
        "df_with_dupes.dropDuplicates().show()"
      ],
      "metadata": {
        "colab": {
          "base_uri": "https://localhost:8080/"
        },
        "id": "RE_QKPLAXFWc",
        "outputId": "f46d6003-9233-4bbe-bb4c-2e875226cf11"
      },
      "id": "RE_QKPLAXFWc",
      "execution_count": 23,
      "outputs": [
        {
          "output_type": "stream",
          "name": "stdout",
          "text": [
            "+------+---+\n",
            "|  name|age|\n",
            "+------+---+\n",
            "| Alice| 20|\n",
            "|Drawin| 35|\n",
            "|   Bob| 25|\n",
            "+------+---+\n",
            "\n"
          ]
        }
      ]
    },
    {
      "cell_type": "code",
      "source": [
        "df.describe().show()"
      ],
      "metadata": {
        "colab": {
          "base_uri": "https://localhost:8080/"
        },
        "id": "FzN1lj0hXlLM",
        "outputId": "e0e7ac08-d9a5-4126-cd7b-95ed2870b849"
      },
      "id": "FzN1lj0hXlLM",
      "execution_count": 24,
      "outputs": [
        {
          "output_type": "stream",
          "name": "stdout",
          "text": [
            "+-------+------+------------------+\n",
            "|summary|  name|               age|\n",
            "+-------+------+------------------+\n",
            "|  count|     3|                 3|\n",
            "|   mean|  NULL|26.666666666666668|\n",
            "| stddev|  NULL| 7.637626158259733|\n",
            "|    min| Alice|                20|\n",
            "|    max|Drawin|                35|\n",
            "+-------+------+------------------+\n",
            "\n"
          ]
        }
      ]
    },
    {
      "cell_type": "code",
      "source": [
        "from pyspark.sql.functions import isnull,col\n",
        "df.select([isnull(c).cast(\"int\").alias(c) for c in df.columns]).show()"
      ],
      "metadata": {
        "colab": {
          "base_uri": "https://localhost:8080/"
        },
        "id": "VCyMT9UEX4w7",
        "outputId": "4489f1bd-3e0d-44ff-d3d8-8350ae6ad781"
      },
      "id": "VCyMT9UEX4w7",
      "execution_count": 25,
      "outputs": [
        {
          "output_type": "stream",
          "name": "stdout",
          "text": [
            "+----+---+\n",
            "|name|age|\n",
            "+----+---+\n",
            "|   0|  0|\n",
            "|   0|  0|\n",
            "|   0|  0|\n",
            "+----+---+\n",
            "\n"
          ]
        }
      ]
    },
    {
      "cell_type": "code",
      "source": [
        "df_with_null = spark.createDataFrames([(\"tara\",5),(None,33)],[\"name\",\"age\"])\n",
        "df_with_null.filter(df_with_null.name.isNotNull()).show()"
      ],
      "metadata": {
        "colab": {
          "base_uri": "https://localhost:8080/",
          "height": 158
        },
        "id": "1K1vHLwJZZCm",
        "outputId": "60166aa1-b34c-4c01-f121-10d9775b40ac"
      },
      "id": "1K1vHLwJZZCm",
      "execution_count": 26,
      "outputs": [
        {
          "output_type": "error",
          "ename": "AttributeError",
          "evalue": "'SparkSession' object has no attribute 'createDataFrames'",
          "traceback": [
            "\u001b[0;31m---------------------------------------------------------------------------\u001b[0m",
            "\u001b[0;31mAttributeError\u001b[0m                            Traceback (most recent call last)",
            "\u001b[0;32m/tmp/ipython-input-4100775363.py\u001b[0m in \u001b[0;36m<cell line: 0>\u001b[0;34m()\u001b[0m\n\u001b[0;32m----> 1\u001b[0;31m \u001b[0mdf_with_null\u001b[0m \u001b[0;34m=\u001b[0m \u001b[0mspark\u001b[0m\u001b[0;34m.\u001b[0m\u001b[0mcreateDataFrames\u001b[0m\u001b[0;34m(\u001b[0m\u001b[0;34m[\u001b[0m\u001b[0;34m(\u001b[0m\u001b[0;34m\"tara\"\u001b[0m\u001b[0;34m,\u001b[0m\u001b[0;36m5\u001b[0m\u001b[0;34m)\u001b[0m\u001b[0;34m,\u001b[0m\u001b[0;34m(\u001b[0m\u001b[0;32mNone\u001b[0m\u001b[0;34m,\u001b[0m\u001b[0;36m33\u001b[0m\u001b[0;34m)\u001b[0m\u001b[0;34m]\u001b[0m\u001b[0;34m,\u001b[0m\u001b[0;34m[\u001b[0m\u001b[0;34m\"name\"\u001b[0m\u001b[0;34m,\u001b[0m\u001b[0;34m\"age\"\u001b[0m\u001b[0;34m]\u001b[0m\u001b[0;34m)\u001b[0m\u001b[0;34m\u001b[0m\u001b[0;34m\u001b[0m\u001b[0m\n\u001b[0m\u001b[1;32m      2\u001b[0m \u001b[0mdf_with_null\u001b[0m\u001b[0;34m.\u001b[0m\u001b[0mfilter\u001b[0m\u001b[0;34m(\u001b[0m\u001b[0mdf_with_null\u001b[0m\u001b[0;34m.\u001b[0m\u001b[0mname\u001b[0m\u001b[0;34m.\u001b[0m\u001b[0misNotNull\u001b[0m\u001b[0;34m(\u001b[0m\u001b[0;34m)\u001b[0m\u001b[0;34m)\u001b[0m\u001b[0;34m.\u001b[0m\u001b[0mshow\u001b[0m\u001b[0;34m(\u001b[0m\u001b[0;34m)\u001b[0m\u001b[0;34m\u001b[0m\u001b[0;34m\u001b[0m\u001b[0m\n",
            "\u001b[0;31mAttributeError\u001b[0m: 'SparkSession' object has no attribute 'createDataFrames'"
          ]
        }
      ]
    },
    {
      "cell_type": "markdown",
      "source": [],
      "metadata": {
        "id": "VIMU6d2syyyj"
      },
      "id": "VIMU6d2syyyj"
    },
    {
      "cell_type": "markdown",
      "source": [
        "day2"
      ],
      "metadata": {
        "id": "KyKgSGC4y0tw"
      },
      "id": "KyKgSGC4y0tw"
    },
    {
      "cell_type": "code",
      "source": [
        "from pyspark.sql import SparkSession"
      ],
      "metadata": {
        "id": "5rkwcAQLy8qd"
      },
      "id": "5rkwcAQLy8qd",
      "execution_count": 29,
      "outputs": []
    },
    {
      "cell_type": "code",
      "source": [
        "spark = SparkSession.builder.appName(\"PySparkFlowDay2\").getOrCreate()"
      ],
      "metadata": {
        "id": "7nS3s_sh0PDP"
      },
      "id": "7nS3s_sh0PDP",
      "execution_count": 40,
      "outputs": []
    },
    {
      "cell_type": "code",
      "source": [
        "from pyspark.sql.types import StructType,StructField,StringType,IntegerType\n",
        "schema = StructType([\n",
        "    StructField(\"name\",StringType(),True),\n",
        "    StructField(\"age\",IntegerType(),True),\n",
        "    StructField(\"salary\",IntegerType(),True)\n",
        "])\n",
        "data = [\n",
        "    (\"David\",22,25000),\n",
        "    (\"Eva\",29,35000),\n",
        "    (\"John\",35,50000),\n",
        "    (\"Sara\",22,27000),\n",
        "    (\"Mike\",29,35000)\n",
        "]\n",
        "df = spark.createDataFrame(data,schema)\n",
        "df.select(\"name\",\"salary\").show()"
      ],
      "metadata": {
        "colab": {
          "base_uri": "https://localhost:8080/"
        },
        "id": "gZWvnrhO2Ycw",
        "outputId": "68affb9c-fed2-40fb-e553-142f171cad46"
      },
      "id": "gZWvnrhO2Ycw",
      "execution_count": 41,
      "outputs": [
        {
          "output_type": "stream",
          "name": "stdout",
          "text": [
            "+-----+------+\n",
            "| name|salary|\n",
            "+-----+------+\n",
            "|David| 25000|\n",
            "|  Eva| 35000|\n",
            "| John| 50000|\n",
            "| Sara| 27000|\n",
            "| Mike| 35000|\n",
            "+-----+------+\n",
            "\n"
          ]
        }
      ]
    },
    {
      "cell_type": "code",
      "source": [
        "from pyspark.sql.functions import col\n",
        "df=df.withColumn(\"bonus\",col(\"salary\")*0.1)\n",
        "df.show()\n",
        "df.orderBy(col(\"salary\").desc()).show()\n"
      ],
      "metadata": {
        "colab": {
          "base_uri": "https://localhost:8080/"
        },
        "id": "RXjolJe13LEN",
        "outputId": "76215da3-9d44-4231-cebc-8cfd0a8bc2f4"
      },
      "id": "RXjolJe13LEN",
      "execution_count": 43,
      "outputs": [
        {
          "output_type": "stream",
          "name": "stdout",
          "text": [
            "+-----+---+------+------+\n",
            "| name|age|salary| bonus|\n",
            "+-----+---+------+------+\n",
            "|David| 22| 25000|2500.0|\n",
            "|  Eva| 29| 35000|3500.0|\n",
            "| John| 35| 50000|5000.0|\n",
            "| Sara| 22| 27000|2700.0|\n",
            "| Mike| 29| 35000|3500.0|\n",
            "+-----+---+------+------+\n",
            "\n",
            "+-----+---+------+------+\n",
            "| name|age|salary| bonus|\n",
            "+-----+---+------+------+\n",
            "| John| 35| 50000|5000.0|\n",
            "|  Eva| 29| 35000|3500.0|\n",
            "| Mike| 29| 35000|3500.0|\n",
            "| Sara| 22| 27000|2700.0|\n",
            "|David| 22| 25000|2500.0|\n",
            "+-----+---+------+------+\n",
            "\n"
          ]
        }
      ]
    },
    {
      "cell_type": "code",
      "source": [
        "df.groupBy(\"age\").avg(\"salary\").show()"
      ],
      "metadata": {
        "colab": {
          "base_uri": "https://localhost:8080/"
        },
        "id": "45D4llHJ8KUZ",
        "outputId": "72210c94-b339-436b-db2a-94bfe0a617e7"
      },
      "id": "45D4llHJ8KUZ",
      "execution_count": 46,
      "outputs": [
        {
          "output_type": "stream",
          "name": "stdout",
          "text": [
            "+---+-----------+\n",
            "|age|avg(salary)|\n",
            "+---+-----------+\n",
            "| 22|    26000.0|\n",
            "| 29|    35000.0|\n",
            "| 35|    50000.0|\n",
            "+---+-----------+\n",
            "\n"
          ]
        }
      ]
    },
    {
      "cell_type": "code",
      "source": [
        "df=df.withColumnRenamed(\"salary\",\"monthly_salary\")\n",
        "df.show()"
      ],
      "metadata": {
        "colab": {
          "base_uri": "https://localhost:8080/"
        },
        "id": "DEFARXOL9ESe",
        "outputId": "b3a07b83-7dad-41ca-987c-c4ec67a137a4"
      },
      "id": "DEFARXOL9ESe",
      "execution_count": 48,
      "outputs": [
        {
          "output_type": "stream",
          "name": "stdout",
          "text": [
            "+-----+---+--------------+------+\n",
            "| name|age|monthly_salary| bonus|\n",
            "+-----+---+--------------+------+\n",
            "|David| 22|         25000|2500.0|\n",
            "|  Eva| 29|         35000|3500.0|\n",
            "| John| 35|         50000|5000.0|\n",
            "| Sara| 22|         27000|2700.0|\n",
            "| Mike| 29|         35000|3500.0|\n",
            "+-----+---+--------------+------+\n",
            "\n"
          ]
        }
      ]
    },
    {
      "cell_type": "code",
      "source": [
        "df=df.drop(\"bonus\")\n",
        "df.show()"
      ],
      "metadata": {
        "colab": {
          "base_uri": "https://localhost:8080/"
        },
        "id": "4kfUOvgm9UWs",
        "outputId": "6145515e-1569-40e9-a7c8-81af2e64d139"
      },
      "id": "4kfUOvgm9UWs",
      "execution_count": 50,
      "outputs": [
        {
          "output_type": "stream",
          "name": "stdout",
          "text": [
            "+-----+---+--------------+\n",
            "| name|age|monthly_salary|\n",
            "+-----+---+--------------+\n",
            "|David| 22|         25000|\n",
            "|  Eva| 29|         35000|\n",
            "| John| 35|         50000|\n",
            "| Sara| 22|         27000|\n",
            "| Mike| 29|         35000|\n",
            "+-----+---+--------------+\n",
            "\n"
          ]
        }
      ]
    },
    {
      "cell_type": "code",
      "source": [
        "from pyspark.sql.functions import countDistinct\n",
        "df.select(countDistinct(\"age\")).show()"
      ],
      "metadata": {
        "colab": {
          "base_uri": "https://localhost:8080/"
        },
        "id": "MgiMUoE29mgn",
        "outputId": "e303f958-eed6-4544-8430-db33e7e6f656"
      },
      "id": "MgiMUoE29mgn",
      "execution_count": 57,
      "outputs": [
        {
          "output_type": "stream",
          "name": "stdout",
          "text": [
            "+-------------------+\n",
            "|count(DISTINCT age)|\n",
            "+-------------------+\n",
            "|                  3|\n",
            "+-------------------+\n",
            "\n"
          ]
        }
      ]
    },
    {
      "cell_type": "code",
      "source": [
        "from pyspark.sql.functions import countDistinct\n",
        "df.select(countDistinct(\"name\")).show()"
      ],
      "metadata": {
        "colab": {
          "base_uri": "https://localhost:8080/"
        },
        "id": "kzOWUmN--tkz",
        "outputId": "c41793db-7283-48e1-8503-464c44475066"
      },
      "id": "kzOWUmN--tkz",
      "execution_count": 59,
      "outputs": [
        {
          "output_type": "stream",
          "name": "stdout",
          "text": [
            "+--------------------+\n",
            "|count(DISTINCT name)|\n",
            "+--------------------+\n",
            "|                   5|\n",
            "+--------------------+\n",
            "\n"
          ]
        }
      ]
    },
    {
      "cell_type": "code",
      "source": [
        "df.select(col(\"name\").alias(\"employee_name\")).show()"
      ],
      "metadata": {
        "colab": {
          "base_uri": "https://localhost:8080/"
        },
        "id": "3RFjRb3h_SOB",
        "outputId": "13cb032c-c9da-43ab-d826-19d338e69d11"
      },
      "id": "3RFjRb3h_SOB",
      "execution_count": 61,
      "outputs": [
        {
          "output_type": "stream",
          "name": "stdout",
          "text": [
            "+-------------+\n",
            "|employee_name|\n",
            "+-------------+\n",
            "|        David|\n",
            "|          Eva|\n",
            "|         John|\n",
            "|         Sara|\n",
            "|         Mike|\n",
            "+-------------+\n",
            "\n"
          ]
        }
      ]
    },
    {
      "cell_type": "code",
      "source": [
        "df_dupes=df.union(df)\n",
        "print(\"Befor removing duplicates:\")\n",
        "df_dupes.show()\n",
        "print(\"After removing duplicates:\")\n",
        "df_dupes.dropDuplicates().show()"
      ],
      "metadata": {
        "colab": {
          "base_uri": "https://localhost:8080/"
        },
        "id": "V1iftw7uA1e6",
        "outputId": "fb9b9961-f4e1-42a2-fa9e-d1fe602951cd"
      },
      "id": "V1iftw7uA1e6",
      "execution_count": 62,
      "outputs": [
        {
          "output_type": "stream",
          "name": "stdout",
          "text": [
            "Befor removing duplicates:\n",
            "+-----+---+--------------+\n",
            "| name|age|monthly_salary|\n",
            "+-----+---+--------------+\n",
            "|David| 22|         25000|\n",
            "|  Eva| 29|         35000|\n",
            "| John| 35|         50000|\n",
            "| Sara| 22|         27000|\n",
            "| Mike| 29|         35000|\n",
            "|David| 22|         25000|\n",
            "|  Eva| 29|         35000|\n",
            "| John| 35|         50000|\n",
            "| Sara| 22|         27000|\n",
            "| Mike| 29|         35000|\n",
            "+-----+---+--------------+\n",
            "\n",
            "After removing duplicates:\n",
            "+-----+---+--------------+\n",
            "| name|age|monthly_salary|\n",
            "+-----+---+--------------+\n",
            "|David| 22|         25000|\n",
            "|  Eva| 29|         35000|\n",
            "| Sara| 22|         27000|\n",
            "| Mike| 29|         35000|\n",
            "| John| 35|         50000|\n",
            "+-----+---+--------------+\n",
            "\n"
          ]
        }
      ]
    }
  ],
  "metadata": {
    "kernelspec": {
      "display_name": "Python 3",
      "name": "python3"
    },
    "language_info": {
      "name": "python"
    },
    "required_libs": [],
    "colab": {
      "provenance": [],
      "include_colab_link": true
    }
  },
  "nbformat": 4,
  "nbformat_minor": 5
}